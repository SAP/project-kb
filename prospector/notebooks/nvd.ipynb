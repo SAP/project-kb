{
 "cells": [
  {
   "cell_type": "code",
   "execution_count": 16,
   "source": [
    "import requests\n",
    "import json\n",
    "from tqdm import tqdm\n",
    "from urllib.parse import urlparse\n",
    "\n",
    "\n",
    "%cd ..\n",
    "from datamodel.advisory import AdvisoryRecord\n"
   ],
   "outputs": [
    {
     "output_type": "stream",
     "name": "stdout",
     "text": [
      "/home/i064196/Documents/10_working\n"
     ]
    }
   ],
   "metadata": {}
  },
  {
   "cell_type": "code",
   "execution_count": 17,
   "source": [
    "NVD_API= \"http://localhost:8000/nvd/vulnerabilities/\"\n",
    "\n",
    "YEAR = \"2019\""
   ],
   "outputs": [],
   "metadata": {}
  },
  {
   "cell_type": "code",
   "execution_count": 18,
   "source": [
    "# response = requests.get(NVD_API + \"by-year/\" + YEAR)\n",
    "# vuln_ids = json.loads(response.text)['data'][:200]"
   ],
   "outputs": [],
   "metadata": {}
  },
  {
   "cell_type": "code",
   "execution_count": 2,
   "source": [
    "with open('notebooks/projectkb_vulns.txt') as f:\n",
    "    vuln_ids = f.read().splitlines()\n",
    "\n",
    "# print(vuln_ids)"
   ],
   "outputs": [
    {
     "output_type": "error",
     "ename": "FileNotFoundError",
     "evalue": "[Errno 2] No such file or directory: './notebooks/projectkb_vulns.txt'",
     "traceback": [
      "\u001b[0;31m---------------------------------------------------------------------------\u001b[0m",
      "\u001b[0;31mFileNotFoundError\u001b[0m                         Traceback (most recent call last)",
      "\u001b[0;32m/tmp/ipykernel_16228/4258668231.py\u001b[0m in \u001b[0;36m<module>\u001b[0;34m\u001b[0m\n\u001b[0;32m----> 1\u001b[0;31m \u001b[0;32mwith\u001b[0m \u001b[0mopen\u001b[0m\u001b[0;34m(\u001b[0m\u001b[0;34m'./notebooks/projectkb_vulns.txt'\u001b[0m\u001b[0;34m)\u001b[0m \u001b[0;32mas\u001b[0m \u001b[0mf\u001b[0m\u001b[0;34m:\u001b[0m\u001b[0;34m\u001b[0m\u001b[0;34m\u001b[0m\u001b[0m\n\u001b[0m\u001b[1;32m      2\u001b[0m     \u001b[0mvuln_ids\u001b[0m \u001b[0;34m=\u001b[0m \u001b[0mf\u001b[0m\u001b[0;34m.\u001b[0m\u001b[0mread\u001b[0m\u001b[0;34m(\u001b[0m\u001b[0;34m)\u001b[0m\u001b[0;34m.\u001b[0m\u001b[0msplitlines\u001b[0m\u001b[0;34m(\u001b[0m\u001b[0;34m)\u001b[0m\u001b[0;34m\u001b[0m\u001b[0;34m\u001b[0m\u001b[0m\n\u001b[1;32m      3\u001b[0m \u001b[0;34m\u001b[0m\u001b[0m\n\u001b[1;32m      4\u001b[0m \u001b[0;31m# print(vuln_ids)\u001b[0m\u001b[0;34m\u001b[0m\u001b[0;34m\u001b[0m\u001b[0;34m\u001b[0m\u001b[0m\n",
      "\u001b[0;31mFileNotFoundError\u001b[0m: [Errno 2] No such file or directory: './notebooks/projectkb_vulns.txt'"
     ]
    }
   ],
   "metadata": {}
  },
  {
   "cell_type": "code",
   "execution_count": null,
   "source": [
    "count = 0\n",
    "for vulnerability_id in tqdm(vuln_ids):\n",
    "    # vuln_data = requests.get(NVD_API + vulnerability_id)\n",
    "    ar = AdvisoryRecord(vulnerability_id=vulnerability_id)\n",
    "    ar.analyze(use_nvd=True)\n",
    "    # records.append(ar)\n",
    "\n",
    "    print(ar.affected_products)\n",
    "    \n",
    "    # if ar.license != 'OSS':\n",
    "    #     count += 1\n",
    "    #     # print('.', end='')\n",
    "    #     print(ar.vulnerability_id, ar.license)\n",
    "    #     print(ar.description)\n",
    "    #     # print(ar.license)\n",
    "    # for r in ar.references:\n",
    "    #     references.add(urlparse(r).hostname)\n",
    "\n",
    "# print(references)"
   ],
   "outputs": [],
   "metadata": {}
  },
  {
   "cell_type": "code",
   "execution_count": null,
   "source": [
    "count"
   ],
   "outputs": [],
   "metadata": {}
  }
 ],
 "metadata": {
  "orig_nbformat": 4,
  "language_info": {
   "name": "python",
   "version": "3.8.0",
   "mimetype": "text/x-python",
   "codemirror_mode": {
    "name": "ipython",
    "version": 3
   },
   "pygments_lexer": "ipython3",
   "nbconvert_exporter": "python",
   "file_extension": ".py"
  },
  "kernelspec": {
   "name": "python3",
   "display_name": "Python 3.8.0 64-bit ('prospector-C4A5icFp': pipenv)"
  },
  "interpreter": {
   "hash": "b8eed6375e759212d21dcc1b7f30a6ef0ccc73330010cc5f59ec648ae8c820df"
  }
 },
 "nbformat": 4,
 "nbformat_minor": 2
}
